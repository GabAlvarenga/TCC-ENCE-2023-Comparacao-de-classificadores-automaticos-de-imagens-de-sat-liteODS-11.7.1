{
  "nbformat": 4,
  "nbformat_minor": 0,
  "metadata": {
    "colab": {
      "provenance": []
    },
    "kernelspec": {
      "name": "python3",
      "display_name": "Python 3"
    },
    "language_info": {
      "name": "python"
    }
  },
  "cells": [
    {
      "cell_type": "markdown",
      "source": [
        "## Vizualização dos filtros de extração de características\n",
        "\n",
        "**Dependências**:\n",
        "- FeatureExtraction_GS2500_maskOSM.parquet"
      ],
      "metadata": {
        "id": "E1Mlo4cWY9Iy"
      }
    },
    {
      "cell_type": "code",
      "source": [
        "#imports\n",
        "import numpy as np\n",
        "import cv2\n",
        "import pandas as pd\n",
        "from matplotlib import pyplot as plt\n",
        "!pip install fastparquet"
      ],
      "metadata": {
        "colab": {
          "base_uri": "https://localhost:8080/"
        },
        "id": "UiqTDGOu0TNF",
        "outputId": "bf738d88-c645-499b-8af9-f23e47c02048"
      },
      "execution_count": null,
      "outputs": [
        {
          "output_type": "stream",
          "name": "stdout",
          "text": [
            "Looking in indexes: https://pypi.org/simple, https://us-python.pkg.dev/colab-wheels/public/simple/\n",
            "Collecting fastparquet\n",
            "  Downloading fastparquet-2023.2.0-cp39-cp39-manylinux_2_17_x86_64.manylinux2014_x86_64.whl (1.6 MB)\n",
            "\u001b[2K     \u001b[90m━━━━━━━━━━━━━━━━━━━━━━━━━━━━━━━━━━━━━━━━\u001b[0m \u001b[32m1.6/1.6 MB\u001b[0m \u001b[31m52.3 MB/s\u001b[0m eta \u001b[36m0:00:00\u001b[0m\n",
            "\u001b[?25hRequirement already satisfied: fsspec in /usr/local/lib/python3.9/dist-packages (from fastparquet) (2023.3.0)\n",
            "Collecting pandas>=1.5.0\n",
            "  Downloading pandas-2.0.0-cp39-cp39-manylinux_2_17_x86_64.manylinux2014_x86_64.whl (12.4 MB)\n",
            "\u001b[2K     \u001b[90m━━━━━━━━━━━━━━━━━━━━━━━━━━━━━━━━━━━━━━━━\u001b[0m \u001b[32m12.4/12.4 MB\u001b[0m \u001b[31m83.6 MB/s\u001b[0m eta \u001b[36m0:00:00\u001b[0m\n",
            "\u001b[?25hCollecting cramjam>=2.3\n",
            "  Downloading cramjam-2.6.2-cp39-cp39-manylinux_2_17_x86_64.manylinux2014_x86_64.whl (2.0 MB)\n",
            "\u001b[2K     \u001b[90m━━━━━━━━━━━━━━━━━━━━━━━━━━━━━━━━━━━━━━━━\u001b[0m \u001b[32m2.0/2.0 MB\u001b[0m \u001b[31m73.3 MB/s\u001b[0m eta \u001b[36m0:00:00\u001b[0m\n",
            "\u001b[?25hRequirement already satisfied: numpy>=1.20.3 in /usr/local/lib/python3.9/dist-packages (from fastparquet) (1.22.4)\n",
            "Requirement already satisfied: packaging in /usr/local/lib/python3.9/dist-packages (from fastparquet) (23.0)\n",
            "Requirement already satisfied: pytz>=2020.1 in /usr/local/lib/python3.9/dist-packages (from pandas>=1.5.0->fastparquet) (2022.7.1)\n",
            "Requirement already satisfied: tzdata>=2022.1 in /usr/local/lib/python3.9/dist-packages (from pandas>=1.5.0->fastparquet) (2023.3)\n",
            "Requirement already satisfied: python-dateutil>=2.8.2 in /usr/local/lib/python3.9/dist-packages (from pandas>=1.5.0->fastparquet) (2.8.2)\n",
            "Requirement already satisfied: six>=1.5 in /usr/local/lib/python3.9/dist-packages (from python-dateutil>=2.8.2->pandas>=1.5.0->fastparquet) (1.16.0)\n",
            "Installing collected packages: cramjam, pandas, fastparquet\n",
            "  Attempting uninstall: pandas\n",
            "    Found existing installation: pandas 1.4.4\n",
            "    Uninstalling pandas-1.4.4:\n",
            "      Successfully uninstalled pandas-1.4.4\n",
            "\u001b[31mERROR: pip's dependency resolver does not currently take into account all the packages that are installed. This behaviour is the source of the following dependency conflicts.\n",
            "db-dtypes 1.0.5 requires pandas<2.0dev,>=0.24.2, but you have pandas 2.0.0 which is incompatible.\u001b[0m\u001b[31m\n",
            "\u001b[0mSuccessfully installed cramjam-2.6.2 fastparquet-2023.2.0 pandas-2.0.0\n"
          ]
        }
      ]
    },
    {
      "cell_type": "code",
      "source": [
        "df = pd.read_parquet(\"/content/drive/MyDrive/TCC_IMG/FeatureExtraction_GS2500_maskOSM.parquet\",\n",
        "                engine='fastparquet')"
      ],
      "metadata": {
        "id": "bWD2Fuv80XD-"
      },
      "execution_count": null,
      "outputs": []
    },
    {
      "cell_type": "code",
      "source": [
        "df.columns[:-1]"
      ],
      "metadata": {
        "colab": {
          "base_uri": "https://localhost:8080/"
        },
        "id": "EHDIveLW2U8p",
        "outputId": "014d13e5-36a0-4a57-bc85-41a9399d3792"
      },
      "execution_count": null,
      "outputs": [
        {
          "output_type": "execute_result",
          "data": {
            "text/plain": [
              "Index(['Original Image', 'Gabor1', 'Gabor2', 'Gabor3', 'Gabor4', 'Gabor5',\n",
              "       'Gabor6', 'Gabor7', 'Gabor8', 'Gabor9', 'Gabor10', 'Gabor11', 'Gabor12',\n",
              "       'Gabor13', 'Gabor14', 'Gabor15', 'Gabor16', 'Gabor17', 'Gabor18',\n",
              "       'Gabor19', 'Gabor20', 'Gabor21', 'Gabor22', 'Gabor23', 'Gabor24',\n",
              "       'Gabor25', 'Gabor26', 'Gabor27', 'Gabor28', 'Gabor29', 'Gabor30',\n",
              "       'Gabor31', 'Gabor32', 'Canny Edge', 'Roberts', 'Sobel', 'Scharr',\n",
              "       'Prewitt', 'Gaussian s3', 'Gaussian s7', 'Median s3'],\n",
              "      dtype='object')"
            ]
          },
          "metadata": {},
          "execution_count": 33
        }
      ]
    },
    {
      "cell_type": "code",
      "source": [
        "for i in df.columns[:-1]:\n",
        "  img = df[[i]].values.reshape((5000,5000))\n",
        "  plt.figure(figsize=(10, 10))\n",
        "  plt.imshow(img, cmap='gray');\n",
        "  plt.savefig(\"/content/drive/MyDrive/TCC_IMG/Filtros_de_imagem\"+\"/\"+i+\".jpeg\", bbox_inches='tight')"
      ],
      "metadata": {
        "id": "S9v7Zuyg-1Qp"
      },
      "execution_count": null,
      "outputs": []
    },
    {
      "cell_type": "code",
      "source": [
        "#'Gaussian s7','Gaussian s3','Gabor23','Median s3',\n",
        "#'Scharr','Roberts','Gabor29','Original Image'"
      ],
      "metadata": {
        "id": "bL34EtsN6FHF"
      },
      "execution_count": null,
      "outputs": []
    },
    {
      "cell_type": "code",
      "source": [
        "imagem_original = df[[\"Original Image\"]].values.reshape((5000,5000))\n",
        "plt.figure(figsize=(10, 10))\n",
        "plt.imshow(imagem_original, cmap='gray');"
      ],
      "metadata": {
        "id": "JczHJBhA3a1g"
      },
      "execution_count": null,
      "outputs": []
    },
    {
      "cell_type": "code",
      "source": [
        "gabor_29 = df[[\"Gabor29\"]].values.reshape((5000,5000))\n",
        "plt.figure(figsize=(10, 10))\n",
        "plt.imshow(gabor_29, cmap='gray')"
      ],
      "metadata": {
        "id": "hRu8nv4K6SLt"
      },
      "execution_count": null,
      "outputs": []
    },
    {
      "cell_type": "code",
      "source": [
        "gabor_23 = df[[\"Gabor23\"]].values.reshape((5000,5000))\n",
        "plt.figure(figsize=(10, 10))\n",
        "plt.imshow(gabor_23, cmap='gray');"
      ],
      "metadata": {
        "id": "gGd9atuL5WZD"
      },
      "execution_count": null,
      "outputs": []
    },
    {
      "cell_type": "code",
      "source": [
        "Gaussian_s7 = df[[\"Gaussian s7\"]].values.reshape((5000,5000))\n",
        "plt.figure(figsize=(10, 10))\n",
        "plt.imshow(Gaussian_s7, cmap='gray');"
      ],
      "metadata": {
        "id": "NW3lqAtD6AHn"
      },
      "execution_count": null,
      "outputs": []
    },
    {
      "cell_type": "code",
      "source": [
        "Gaussian_s3 = df[[\"Gaussian s3\"]].values.reshape((5000,5000))\n",
        "plt.figure(figsize=(10, 10))\n",
        "plt.imshow(Gaussian_s3, cmap='gray');"
      ],
      "metadata": {
        "id": "_oDW-0Zf6MFh"
      },
      "execution_count": null,
      "outputs": []
    },
    {
      "cell_type": "code",
      "source": [
        "Median_s3 = df[[\"Median s3\"]].values.reshape((5000,5000))\n",
        "plt.figure(figsize=(10, 10))\n",
        "plt.imshow(Median_s3, cmap='gray');"
      ],
      "metadata": {
        "id": "Qztuybc-6PJ6"
      },
      "execution_count": null,
      "outputs": []
    },
    {
      "cell_type": "code",
      "source": [
        "Scharr = df[[\"Scharr\"]].values.reshape((5000,5000))\n",
        "plt.figure(figsize=(10, 10))\n",
        "plt.imshow(Scharr, cmap='gray')"
      ],
      "metadata": {
        "id": "KSDlZ6ON6gK_"
      },
      "execution_count": null,
      "outputs": []
    },
    {
      "cell_type": "code",
      "source": [
        "Roberts = df[[\"Roberts\"]].values.reshape((5000,5000))\n",
        "plt.figure(figsize=(10, 10))\n",
        "plt.imshow(Roberts, cmap='gray')"
      ],
      "metadata": {
        "id": "G1_UFgOp6sau"
      },
      "execution_count": null,
      "outputs": []
    },
    {
      "cell_type": "code",
      "source": [],
      "metadata": {
        "id": "nwAFhQbv6r_d"
      },
      "execution_count": null,
      "outputs": []
    },
    {
      "cell_type": "code",
      "source": [],
      "metadata": {
        "id": "dAFqUW2b6j4F"
      },
      "execution_count": null,
      "outputs": []
    }
  ]
}
