{
  "cells": [
    {
      "cell_type": "markdown",
      "source": [
        "## Geração dos Filtros de extração de características"
      ],
      "metadata": {
        "id": "TDFbAeQwabX0"
      }
    },
    {
      "cell_type": "markdown",
      "source": [
        "## Features Extraction"
      ],
      "metadata": {
        "id": "EeOrt3fnBzPp"
      }
    },
    {
      "cell_type": "code",
      "source": [
        "import numpy as np\n",
        "import cv2\n",
        "import pandas as pd"
      ],
      "metadata": {
        "id": "AInStBNTB8g3"
      },
      "execution_count": null,
      "outputs": []
    },
    {
      "cell_type": "code",
      "source": [
        "# Leitura da imagem de satélite\n",
        "\n",
        "img = cv2.imread('/GS_2500x2500.tif')\n",
        "img = cv2.cvtColor(img, cv2.COLOR_BGR2GRAY)"
      ],
      "metadata": {
        "id": "VoavbJFJB8eV"
      },
      "execution_count": null,
      "outputs": []
    },
    {
      "cell_type": "markdown",
      "source": [
        "EXTRAÇÃO DE FEATURES\n",
        "  - Original image pixels\n",
        "  - Gabor features           \n",
        "  - CANNY EDGE\n",
        "  - ROBERTS EDGE\n",
        "  - SOBEL\n",
        "  - SCHARR\n",
        "  - PREWITT\n",
        "  - GAUSSIAN with sigma=3\n",
        "  - GAUSSIAN with sigma=7\n",
        "  - MEDIAN with sigma=3"
      ],
      "metadata": {
        "id": "6hNAJ6GYC-Gh"
      }
    },
    {
      "cell_type": "code",
      "source": [
        "# Salvar imagem original\n",
        "img2 = img.reshape(-1)\n",
        "df = pd.DataFrame()\n",
        "df['Original Image'] = img2"
      ],
      "metadata": {
        "id": "kvWWZydxDUCj"
      },
      "execution_count": null,
      "outputs": []
    },
    {
      "cell_type": "markdown",
      "source": [
        "Geração dos Filtros de extração de características\n",
        "\n",
        "**Créditos do código**: DigitalSreeni (https://www.youtube.com/watch?v=QEz4bG9P3Qs&t=1179s)"
      ],
      "metadata": {
        "id": "64BKtei3cFO2"
      }
    },
    {
      "cell_type": "code",
      "source": [
        "\n",
        "#Generate Gabor features\n",
        "num = 1  #To count numbers up in order to give Gabor features a lable in the data frame\n",
        "kernels = []\n",
        "for theta in range(2):   #Define number of thetas\n",
        "    theta = theta / 4. * np.pi\n",
        "    for sigma in (1, 3):  #Sigma with 1 and 3\n",
        "        for lamda in np.arange(0, np.pi, np.pi / 4):   #Range of wavelengths\n",
        "            for gamma in (0.05, 0.5):   #Gamma values of 0.05 and 0.5\n",
        "\n",
        "\n",
        "                gabor_label = 'Gabor' + str(num)  #Label Gabor columns as Gabor1, Gabor2, etc.\n",
        "#                print(gabor_label)\n",
        "                ksize=9\n",
        "                kernel = cv2.getGaborKernel((ksize, ksize), sigma, theta, lamda, gamma, 0, ktype=cv2.CV_32F)\n",
        "                kernels.append(kernel)\n",
        "                #Now filter the image and add values to a new column\n",
        "                fimg = cv2.filter2D(img2, cv2.CV_8UC3, kernel)\n",
        "                filtered_img = fimg.reshape(-1)\n",
        "                df[gabor_label] = filtered_img  #Labels columns as Gabor1, Gabor2, etc.\n",
        "                print(gabor_label, ': theta=', theta, ': sigma=', sigma, ': lamda=', lamda, ': gamma=', gamma)\n",
        "                num += 1  #Increment for gabor column label"
      ],
      "metadata": {
        "colab": {
          "base_uri": "https://localhost:8080/"
        },
        "id": "tswEjxnDDZbQ",
        "outputId": "ce3ebc0b-bdf3-44be-dd09-ffe20ae25011"
      },
      "execution_count": null,
      "outputs": [
        {
          "output_type": "stream",
          "name": "stdout",
          "text": [
            "Gabor1 : theta= 0.0 : sigma= 1 : lamda= 0.0 : gamma= 0.05\n",
            "Gabor2 : theta= 0.0 : sigma= 1 : lamda= 0.0 : gamma= 0.5\n",
            "Gabor3 : theta= 0.0 : sigma= 1 : lamda= 0.7853981633974483 : gamma= 0.05\n",
            "Gabor4 : theta= 0.0 : sigma= 1 : lamda= 0.7853981633974483 : gamma= 0.5\n",
            "Gabor5 : theta= 0.0 : sigma= 1 : lamda= 1.5707963267948966 : gamma= 0.05\n",
            "Gabor6 : theta= 0.0 : sigma= 1 : lamda= 1.5707963267948966 : gamma= 0.5\n",
            "Gabor7 : theta= 0.0 : sigma= 1 : lamda= 2.356194490192345 : gamma= 0.05\n",
            "Gabor8 : theta= 0.0 : sigma= 1 : lamda= 2.356194490192345 : gamma= 0.5\n",
            "Gabor9 : theta= 0.0 : sigma= 3 : lamda= 0.0 : gamma= 0.05\n",
            "Gabor10 : theta= 0.0 : sigma= 3 : lamda= 0.0 : gamma= 0.5\n",
            "Gabor11 : theta= 0.0 : sigma= 3 : lamda= 0.7853981633974483 : gamma= 0.05\n",
            "Gabor12 : theta= 0.0 : sigma= 3 : lamda= 0.7853981633974483 : gamma= 0.5\n",
            "Gabor13 : theta= 0.0 : sigma= 3 : lamda= 1.5707963267948966 : gamma= 0.05\n",
            "Gabor14 : theta= 0.0 : sigma= 3 : lamda= 1.5707963267948966 : gamma= 0.5\n",
            "Gabor15 : theta= 0.0 : sigma= 3 : lamda= 2.356194490192345 : gamma= 0.05\n",
            "Gabor16 : theta= 0.0 : sigma= 3 : lamda= 2.356194490192345 : gamma= 0.5\n",
            "Gabor17 : theta= 0.7853981633974483 : sigma= 1 : lamda= 0.0 : gamma= 0.05\n",
            "Gabor18 : theta= 0.7853981633974483 : sigma= 1 : lamda= 0.0 : gamma= 0.5\n",
            "Gabor19 : theta= 0.7853981633974483 : sigma= 1 : lamda= 0.7853981633974483 : gamma= 0.05\n",
            "Gabor20 : theta= 0.7853981633974483 : sigma= 1 : lamda= 0.7853981633974483 : gamma= 0.5\n",
            "Gabor21 : theta= 0.7853981633974483 : sigma= 1 : lamda= 1.5707963267948966 : gamma= 0.05\n",
            "Gabor22 : theta= 0.7853981633974483 : sigma= 1 : lamda= 1.5707963267948966 : gamma= 0.5\n",
            "Gabor23 : theta= 0.7853981633974483 : sigma= 1 : lamda= 2.356194490192345 : gamma= 0.05\n",
            "Gabor24 : theta= 0.7853981633974483 : sigma= 1 : lamda= 2.356194490192345 : gamma= 0.5\n",
            "Gabor25 : theta= 0.7853981633974483 : sigma= 3 : lamda= 0.0 : gamma= 0.05\n",
            "Gabor26 : theta= 0.7853981633974483 : sigma= 3 : lamda= 0.0 : gamma= 0.5\n",
            "Gabor27 : theta= 0.7853981633974483 : sigma= 3 : lamda= 0.7853981633974483 : gamma= 0.05\n",
            "Gabor28 : theta= 0.7853981633974483 : sigma= 3 : lamda= 0.7853981633974483 : gamma= 0.5\n",
            "Gabor29 : theta= 0.7853981633974483 : sigma= 3 : lamda= 1.5707963267948966 : gamma= 0.05\n",
            "Gabor30 : theta= 0.7853981633974483 : sigma= 3 : lamda= 1.5707963267948966 : gamma= 0.5\n",
            "Gabor31 : theta= 0.7853981633974483 : sigma= 3 : lamda= 2.356194490192345 : gamma= 0.05\n",
            "Gabor32 : theta= 0.7853981633974483 : sigma= 3 : lamda= 2.356194490192345 : gamma= 0.5\n"
          ]
        }
      ]
    },
    {
      "cell_type": "code",
      "source": [
        "df.shape"
      ],
      "metadata": {
        "colab": {
          "base_uri": "https://localhost:8080/"
        },
        "id": "lVDheNldlcWu",
        "outputId": "880c0233-8734-4a08-d913-b705ae242907"
      },
      "execution_count": null,
      "outputs": [
        {
          "output_type": "execute_result",
          "data": {
            "text/plain": [
              "(25000000, 33)"
            ]
          },
          "metadata": {},
          "execution_count": 12
        }
      ]
    },
    {
      "cell_type": "code",
      "source": [
        "# GERACAO DOS OUTROS FILTROS\n",
        "\n",
        "#CANNY EDGE\n",
        "edges = cv2.Canny(img, 100,200)\n",
        "edges1 = edges.reshape(-1)\n",
        "df['Canny Edge'] = edges1\n",
        "\n",
        "from skimage.filters import roberts, sobel, scharr, prewitt\n",
        "\n",
        "#ROBERTS EDGE\n",
        "edge_roberts = roberts(img)\n",
        "edge_roberts1 = edge_roberts.reshape(-1)\n",
        "df['Roberts'] = edge_roberts1\n",
        "\n",
        "#SOBEL\n",
        "edge_sobel = sobel(img)\n",
        "edge_sobel1 = edge_sobel.reshape(-1)\n",
        "df['Sobel'] = edge_sobel1\n",
        "\n",
        "#SCHARR\n",
        "edge_scharr = scharr(img)\n",
        "edge_scharr1 = edge_scharr.reshape(-1)\n",
        "df['Scharr'] = edge_scharr1\n",
        "\n",
        "#PREWITT\n",
        "edge_prewitt = prewitt(img)\n",
        "edge_prewitt1 = edge_prewitt.reshape(-1)\n",
        "df['Prewitt'] = edge_prewitt1\n",
        "\n",
        "#GAUSSIAN with sigma=3\n",
        "from scipy import ndimage as nd\n",
        "gaussian_img = nd.gaussian_filter(img, sigma=3)\n",
        "gaussian_img1 = gaussian_img.reshape(-1)\n",
        "df['Gaussian s3'] = gaussian_img1\n",
        "\n",
        "#GAUSSIAN with sigma=7\n",
        "gaussian_img2 = nd.gaussian_filter(img, sigma=7)\n",
        "gaussian_img3 = gaussian_img2.reshape(-1)\n",
        "df['Gaussian s7'] = gaussian_img3\n",
        "\n",
        "#MEDIAN with sigma=3\n",
        "median_img = nd.median_filter(img, size=3)\n",
        "median_img1 = median_img.reshape(-1)\n",
        "df['Median s3'] = median_img1\n",
        "\n",
        "#VARIANCE with size=3\n",
        "# variance_img = nd.generic_filter(img, np.var, size=3)\n",
        "# variance_img1 = variance_img.reshape(-1)\n",
        "# df['Variance s3'] = variance_img1  #Add column to original dataframe"
      ],
      "metadata": {
        "id": "FnBKl_n5E6gg"
      },
      "execution_count": null,
      "outputs": []
    },
    {
      "cell_type": "markdown",
      "source": [
        "### Consolidação da base de treino\n",
        "\n"
      ],
      "metadata": {
        "id": "t9p7OefvHbqB"
      }
    },
    {
      "cell_type": "code",
      "source": [
        "#Now, add a column in the data frame for the Labels\n",
        "#For this, we need to import the labeled image\n",
        "labeled_img = cv2.imread('/content/drive/MyDrive/TCC_IMG/mask_polig_2500_2500_OSM_r05.tif')\n",
        "labeled_img = labeled_img\n",
        "#Remember that you can load an image with partial labels\n",
        "#But, drop the rows with unlabeled data\n",
        "\n",
        "labeled_img = cv2.cvtColor(labeled_img, cv2.COLOR_BGR2GRAY)\n",
        "labeled_img1 = labeled_img.reshape(-1)\n",
        "df['Labels'] = labeled_img1\n",
        "\n",
        "df.head()\n"
      ],
      "metadata": {
        "colab": {
          "base_uri": "https://localhost:8080/",
          "height": 297
        },
        "id": "5Ft0k12BHbCT",
        "outputId": "6adf52d6-5d8c-49a7-acf2-c22fba54ef27"
      },
      "execution_count": null,
      "outputs": [
        {
          "output_type": "execute_result",
          "data": {
            "text/plain": [
              "   Original Image  Gabor1  Gabor2  Gabor3  Gabor4  Gabor5  Gabor6  Gabor7  \\\n",
              "0              92       0       0     255     255     160      94      65   \n",
              "1             108       0       0     255     255     160      93      65   \n",
              "2             125       0       0     255     255     156      88      63   \n",
              "3              79       0       0     255     254     151      82      61   \n",
              "4              75       0       0     255     238     148      77      60   \n",
              "\n",
              "   Gabor8  Gabor9  ...  Gabor32  Canny Edge   Roberts     Sobel    Scharr  \\\n",
              "0      38       0  ...        0           0  0.062745  0.044367  0.044367   \n",
              "1      38       0  ...       46           0  0.066667  0.091508  0.091508   \n",
              "2      36       0  ...       70           0  0.180392  0.080416  0.080416   \n",
              "3      33       0  ...       35         255  0.015686  0.138648  0.138648   \n",
              "4      31       0  ...       48           0  0.000000  0.011092  0.011092   \n",
              "\n",
              "    Prewitt  Gaussian s3  Gaussian s7  Median s3  Labels  \n",
              "0  0.044367          101          103         92       0  \n",
              "1  0.091508          100          102        108       0  \n",
              "2  0.080416           98          101        108       0  \n",
              "3  0.138648           96          100         79       0  \n",
              "4  0.011092           93           99         75       0  \n",
              "\n",
              "[5 rows x 42 columns]"
            ],
            "text/html": [
              "\n",
              "  <div id=\"df-8fbc8826-13b5-48a5-a47e-86dd742e1952\">\n",
              "    <div class=\"colab-df-container\">\n",
              "      <div>\n",
              "<style scoped>\n",
              "    .dataframe tbody tr th:only-of-type {\n",
              "        vertical-align: middle;\n",
              "    }\n",
              "\n",
              "    .dataframe tbody tr th {\n",
              "        vertical-align: top;\n",
              "    }\n",
              "\n",
              "    .dataframe thead th {\n",
              "        text-align: right;\n",
              "    }\n",
              "</style>\n",
              "<table border=\"1\" class=\"dataframe\">\n",
              "  <thead>\n",
              "    <tr style=\"text-align: right;\">\n",
              "      <th></th>\n",
              "      <th>Original Image</th>\n",
              "      <th>Gabor1</th>\n",
              "      <th>Gabor2</th>\n",
              "      <th>Gabor3</th>\n",
              "      <th>Gabor4</th>\n",
              "      <th>Gabor5</th>\n",
              "      <th>Gabor6</th>\n",
              "      <th>Gabor7</th>\n",
              "      <th>Gabor8</th>\n",
              "      <th>Gabor9</th>\n",
              "      <th>...</th>\n",
              "      <th>Gabor32</th>\n",
              "      <th>Canny Edge</th>\n",
              "      <th>Roberts</th>\n",
              "      <th>Sobel</th>\n",
              "      <th>Scharr</th>\n",
              "      <th>Prewitt</th>\n",
              "      <th>Gaussian s3</th>\n",
              "      <th>Gaussian s7</th>\n",
              "      <th>Median s3</th>\n",
              "      <th>Labels</th>\n",
              "    </tr>\n",
              "  </thead>\n",
              "  <tbody>\n",
              "    <tr>\n",
              "      <th>0</th>\n",
              "      <td>92</td>\n",
              "      <td>0</td>\n",
              "      <td>0</td>\n",
              "      <td>255</td>\n",
              "      <td>255</td>\n",
              "      <td>160</td>\n",
              "      <td>94</td>\n",
              "      <td>65</td>\n",
              "      <td>38</td>\n",
              "      <td>0</td>\n",
              "      <td>...</td>\n",
              "      <td>0</td>\n",
              "      <td>0</td>\n",
              "      <td>0.062745</td>\n",
              "      <td>0.044367</td>\n",
              "      <td>0.044367</td>\n",
              "      <td>0.044367</td>\n",
              "      <td>101</td>\n",
              "      <td>103</td>\n",
              "      <td>92</td>\n",
              "      <td>0</td>\n",
              "    </tr>\n",
              "    <tr>\n",
              "      <th>1</th>\n",
              "      <td>108</td>\n",
              "      <td>0</td>\n",
              "      <td>0</td>\n",
              "      <td>255</td>\n",
              "      <td>255</td>\n",
              "      <td>160</td>\n",
              "      <td>93</td>\n",
              "      <td>65</td>\n",
              "      <td>38</td>\n",
              "      <td>0</td>\n",
              "      <td>...</td>\n",
              "      <td>46</td>\n",
              "      <td>0</td>\n",
              "      <td>0.066667</td>\n",
              "      <td>0.091508</td>\n",
              "      <td>0.091508</td>\n",
              "      <td>0.091508</td>\n",
              "      <td>100</td>\n",
              "      <td>102</td>\n",
              "      <td>108</td>\n",
              "      <td>0</td>\n",
              "    </tr>\n",
              "    <tr>\n",
              "      <th>2</th>\n",
              "      <td>125</td>\n",
              "      <td>0</td>\n",
              "      <td>0</td>\n",
              "      <td>255</td>\n",
              "      <td>255</td>\n",
              "      <td>156</td>\n",
              "      <td>88</td>\n",
              "      <td>63</td>\n",
              "      <td>36</td>\n",
              "      <td>0</td>\n",
              "      <td>...</td>\n",
              "      <td>70</td>\n",
              "      <td>0</td>\n",
              "      <td>0.180392</td>\n",
              "      <td>0.080416</td>\n",
              "      <td>0.080416</td>\n",
              "      <td>0.080416</td>\n",
              "      <td>98</td>\n",
              "      <td>101</td>\n",
              "      <td>108</td>\n",
              "      <td>0</td>\n",
              "    </tr>\n",
              "    <tr>\n",
              "      <th>3</th>\n",
              "      <td>79</td>\n",
              "      <td>0</td>\n",
              "      <td>0</td>\n",
              "      <td>255</td>\n",
              "      <td>254</td>\n",
              "      <td>151</td>\n",
              "      <td>82</td>\n",
              "      <td>61</td>\n",
              "      <td>33</td>\n",
              "      <td>0</td>\n",
              "      <td>...</td>\n",
              "      <td>35</td>\n",
              "      <td>255</td>\n",
              "      <td>0.015686</td>\n",
              "      <td>0.138648</td>\n",
              "      <td>0.138648</td>\n",
              "      <td>0.138648</td>\n",
              "      <td>96</td>\n",
              "      <td>100</td>\n",
              "      <td>79</td>\n",
              "      <td>0</td>\n",
              "    </tr>\n",
              "    <tr>\n",
              "      <th>4</th>\n",
              "      <td>75</td>\n",
              "      <td>0</td>\n",
              "      <td>0</td>\n",
              "      <td>255</td>\n",
              "      <td>238</td>\n",
              "      <td>148</td>\n",
              "      <td>77</td>\n",
              "      <td>60</td>\n",
              "      <td>31</td>\n",
              "      <td>0</td>\n",
              "      <td>...</td>\n",
              "      <td>48</td>\n",
              "      <td>0</td>\n",
              "      <td>0.000000</td>\n",
              "      <td>0.011092</td>\n",
              "      <td>0.011092</td>\n",
              "      <td>0.011092</td>\n",
              "      <td>93</td>\n",
              "      <td>99</td>\n",
              "      <td>75</td>\n",
              "      <td>0</td>\n",
              "    </tr>\n",
              "  </tbody>\n",
              "</table>\n",
              "<p>5 rows × 42 columns</p>\n",
              "</div>\n",
              "      <button class=\"colab-df-convert\" onclick=\"convertToInteractive('df-8fbc8826-13b5-48a5-a47e-86dd742e1952')\"\n",
              "              title=\"Convert this dataframe to an interactive table.\"\n",
              "              style=\"display:none;\">\n",
              "        \n",
              "  <svg xmlns=\"http://www.w3.org/2000/svg\" height=\"24px\"viewBox=\"0 0 24 24\"\n",
              "       width=\"24px\">\n",
              "    <path d=\"M0 0h24v24H0V0z\" fill=\"none\"/>\n",
              "    <path d=\"M18.56 5.44l.94 2.06.94-2.06 2.06-.94-2.06-.94-.94-2.06-.94 2.06-2.06.94zm-11 1L8.5 8.5l.94-2.06 2.06-.94-2.06-.94L8.5 2.5l-.94 2.06-2.06.94zm10 10l.94 2.06.94-2.06 2.06-.94-2.06-.94-.94-2.06-.94 2.06-2.06.94z\"/><path d=\"M17.41 7.96l-1.37-1.37c-.4-.4-.92-.59-1.43-.59-.52 0-1.04.2-1.43.59L10.3 9.45l-7.72 7.72c-.78.78-.78 2.05 0 2.83L4 21.41c.39.39.9.59 1.41.59.51 0 1.02-.2 1.41-.59l7.78-7.78 2.81-2.81c.8-.78.8-2.07 0-2.86zM5.41 20L4 18.59l7.72-7.72 1.47 1.35L5.41 20z\"/>\n",
              "  </svg>\n",
              "      </button>\n",
              "      \n",
              "  <style>\n",
              "    .colab-df-container {\n",
              "      display:flex;\n",
              "      flex-wrap:wrap;\n",
              "      gap: 12px;\n",
              "    }\n",
              "\n",
              "    .colab-df-convert {\n",
              "      background-color: #E8F0FE;\n",
              "      border: none;\n",
              "      border-radius: 50%;\n",
              "      cursor: pointer;\n",
              "      display: none;\n",
              "      fill: #1967D2;\n",
              "      height: 32px;\n",
              "      padding: 0 0 0 0;\n",
              "      width: 32px;\n",
              "    }\n",
              "\n",
              "    .colab-df-convert:hover {\n",
              "      background-color: #E2EBFA;\n",
              "      box-shadow: 0px 1px 2px rgba(60, 64, 67, 0.3), 0px 1px 3px 1px rgba(60, 64, 67, 0.15);\n",
              "      fill: #174EA6;\n",
              "    }\n",
              "\n",
              "    [theme=dark] .colab-df-convert {\n",
              "      background-color: #3B4455;\n",
              "      fill: #D2E3FC;\n",
              "    }\n",
              "\n",
              "    [theme=dark] .colab-df-convert:hover {\n",
              "      background-color: #434B5C;\n",
              "      box-shadow: 0px 1px 3px 1px rgba(0, 0, 0, 0.15);\n",
              "      filter: drop-shadow(0px 1px 2px rgba(0, 0, 0, 0.3));\n",
              "      fill: #FFFFFF;\n",
              "    }\n",
              "  </style>\n",
              "\n",
              "      <script>\n",
              "        const buttonEl =\n",
              "          document.querySelector('#df-8fbc8826-13b5-48a5-a47e-86dd742e1952 button.colab-df-convert');\n",
              "        buttonEl.style.display =\n",
              "          google.colab.kernel.accessAllowed ? 'block' : 'none';\n",
              "\n",
              "        async function convertToInteractive(key) {\n",
              "          const element = document.querySelector('#df-8fbc8826-13b5-48a5-a47e-86dd742e1952');\n",
              "          const dataTable =\n",
              "            await google.colab.kernel.invokeFunction('convertToInteractive',\n",
              "                                                     [key], {});\n",
              "          if (!dataTable) return;\n",
              "\n",
              "          const docLinkHtml = 'Like what you see? Visit the ' +\n",
              "            '<a target=\"_blank\" href=https://colab.research.google.com/notebooks/data_table.ipynb>data table notebook</a>'\n",
              "            + ' to learn more about interactive tables.';\n",
              "          element.innerHTML = '';\n",
              "          dataTable['output_type'] = 'display_data';\n",
              "          await google.colab.output.renderOutput(dataTable, element);\n",
              "          const docLink = document.createElement('div');\n",
              "          docLink.innerHTML = docLinkHtml;\n",
              "          element.appendChild(docLink);\n",
              "        }\n",
              "      </script>\n",
              "    </div>\n",
              "  </div>\n",
              "  "
            ]
          },
          "metadata": {},
          "execution_count": 56
        }
      ]
    },
    {
      "cell_type": "markdown",
      "source": [
        "## Salvando dataframe com filtros, para nao precisar rodalos novamente"
      ],
      "metadata": {
        "id": "v2dGj3qoIpwv"
      }
    },
    {
      "cell_type": "code",
      "source": [
        "!pip install fastparquet"
      ],
      "metadata": {
        "colab": {
          "base_uri": "https://localhost:8080/",
          "height": 485
        },
        "id": "lG_kc8qYLLMW",
        "outputId": "afabbb8a-7d12-49e4-c23c-bea24224f0a1"
      },
      "execution_count": null,
      "outputs": [
        {
          "output_type": "stream",
          "name": "stdout",
          "text": [
            "Looking in indexes: https://pypi.org/simple, https://us-python.pkg.dev/colab-wheels/public/simple/\n",
            "Collecting fastparquet\n",
            "  Downloading fastparquet-2023.2.0-cp39-cp39-manylinux_2_17_x86_64.manylinux2014_x86_64.whl (1.6 MB)\n",
            "\u001b[?25l     \u001b[90m━━━━━━━━━━━━━━━━━━━━━━━━━━━━━━━━━━━━━━━━\u001b[0m \u001b[32m0.0/1.6 MB\u001b[0m \u001b[31m?\u001b[0m eta \u001b[36m-:--:--\u001b[0m\r\u001b[2K     \u001b[91m━━━━━━━━━\u001b[0m\u001b[90m╺\u001b[0m\u001b[90m━━━━━━━━━━━━━━━━━━━━━━━━━━━━━━\u001b[0m \u001b[32m0.4/1.6 MB\u001b[0m \u001b[31m10.7 MB/s\u001b[0m eta \u001b[36m0:00:01\u001b[0m\r\u001b[2K     \u001b[90m━━━━━━━━━━━━━━━━━━━━━━━━━━━━━━━━━━━━━━━━\u001b[0m \u001b[32m1.6/1.6 MB\u001b[0m \u001b[31m22.6 MB/s\u001b[0m eta \u001b[36m0:00:00\u001b[0m\n",
            "\u001b[?25hRequirement already satisfied: numpy>=1.20.3 in /usr/local/lib/python3.9/dist-packages (from fastparquet) (1.24.2)\n",
            "Collecting cramjam>=2.3\n",
            "  Downloading cramjam-2.6.2-cp39-cp39-manylinux_2_17_x86_64.manylinux2014_x86_64.whl (2.0 MB)\n",
            "\u001b[?25l     \u001b[90m━━━━━━━━━━━━━━━━━━━━━━━━━━━━━━━━━━━━━━━━\u001b[0m \u001b[32m0.0/2.0 MB\u001b[0m \u001b[31m?\u001b[0m eta \u001b[36m-:--:--\u001b[0m\r\u001b[2K     \u001b[90m━━━━━━━━━━━━━━━━━━━━━━━━━━━━━━━━━━━━━━━━\u001b[0m \u001b[32m2.0/2.0 MB\u001b[0m \u001b[31m73.1 MB/s\u001b[0m eta \u001b[36m0:00:00\u001b[0m\n",
            "\u001b[?25hRequirement already satisfied: packaging in /usr/local/lib/python3.9/dist-packages (from fastparquet) (23.0)\n",
            "Requirement already satisfied: fsspec in /usr/local/lib/python3.9/dist-packages (from fastparquet) (2023.3.0)\n",
            "Collecting pandas>=1.5.0\n",
            "  Downloading pandas-1.5.3-cp39-cp39-manylinux_2_17_x86_64.manylinux2014_x86_64.whl (12.2 MB)\n",
            "\u001b[2K     \u001b[90m━━━━━━━━━━━━━━━━━━━━━━━━━━━━━━━━━━━━━━━━\u001b[0m \u001b[32m12.2/12.2 MB\u001b[0m \u001b[31m89.2 MB/s\u001b[0m eta \u001b[36m0:00:00\u001b[0m\n",
            "\u001b[?25hRequirement already satisfied: python-dateutil>=2.8.1 in /usr/local/lib/python3.9/dist-packages (from pandas>=1.5.0->fastparquet) (2.8.2)\n",
            "Requirement already satisfied: pytz>=2020.1 in /usr/local/lib/python3.9/dist-packages (from pandas>=1.5.0->fastparquet) (2022.7.1)\n",
            "Requirement already satisfied: six>=1.5 in /usr/local/lib/python3.9/dist-packages (from python-dateutil>=2.8.1->pandas>=1.5.0->fastparquet) (1.16.0)\n",
            "Installing collected packages: cramjam, pandas, fastparquet\n",
            "  Attempting uninstall: pandas\n",
            "    Found existing installation: pandas 1.4.4\n",
            "    Uninstalling pandas-1.4.4:\n",
            "      Successfully uninstalled pandas-1.4.4\n",
            "Successfully installed cramjam-2.6.2 fastparquet-2023.2.0 pandas-1.5.3\n"
          ]
        },
        {
          "output_type": "display_data",
          "data": {
            "application/vnd.colab-display-data+json": {
              "pip_warning": {
                "packages": [
                  "pandas"
                ]
              }
            }
          },
          "metadata": {}
        }
      ]
    },
    {
      "cell_type": "code",
      "source": [
        "# salvar dataset com todas as features\n",
        "df.to_parquet(\"/ga_GS2500_maskOSM_amostra2_1245_2490.parquet\", engine='fastparquet') # 42 colunas , 25M linhas"
      ],
      "metadata": {
        "id": "LRGkLn_VK7fp"
      },
      "execution_count": null,
      "outputs": []
    },
    {
      "cell_type": "code",
      "execution_count": null,
      "metadata": {
        "id": "_bAyG3_VTEIQ"
      },
      "outputs": [],
      "source": []
    }
  ],
  "metadata": {
    "colab": {
      "provenance": [],
      "collapsed_sections": [
        "iWZxcLofRt8W"
      ]
    },
    "kernelspec": {
      "display_name": "Python 3 (ipykernel)",
      "language": "python",
      "name": "python3"
    },
    "language_info": {
      "codemirror_mode": {
        "name": "ipython",
        "version": 3
      },
      "file_extension": ".py",
      "mimetype": "text/x-python",
      "name": "python",
      "nbconvert_exporter": "python",
      "pygments_lexer": "ipython3",
      "version": "3.10.6"
    },
    "gpuClass": "standard"
  },
  "nbformat": 4,
  "nbformat_minor": 0
}
